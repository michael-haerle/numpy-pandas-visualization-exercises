{
 "cells": [
  {
   "cell_type": "code",
   "execution_count": 93,
   "id": "5c7dfbe0",
   "metadata": {},
   "outputs": [],
   "source": [
    "import numpy as np\n",
    "a = np.array([4, 10, 12, 23, -2, -1, 0, 0, 0, -6, 3, -7])"
   ]
  },
  {
   "cell_type": "code",
   "execution_count": 94,
   "id": "449375a3",
   "metadata": {},
   "outputs": [
    {
     "name": "stdout",
     "output_type": "stream",
     "text": [
      "4\n"
     ]
    }
   ],
   "source": [
    "# 1. How many negative numbers are there?\n",
    "\n",
    "neg_num = a[a<0]\n",
    "print(len(neg_num))"
   ]
  },
  {
   "cell_type": "code",
   "execution_count": 95,
   "id": "4bdbde52",
   "metadata": {},
   "outputs": [
    {
     "name": "stdout",
     "output_type": "stream",
     "text": [
      "5\n"
     ]
    }
   ],
   "source": [
    "# 2. How many positive numbers are there?\n",
    "\n",
    "pos_num = a[a>0]\n",
    "print(len(pos_num))"
   ]
  },
  {
   "cell_type": "code",
   "execution_count": 96,
   "id": "91104040",
   "metadata": {},
   "outputs": [
    {
     "name": "stdout",
     "output_type": "stream",
     "text": [
      "8\n"
     ]
    }
   ],
   "source": [
    "# 3. How many even positive numbers are there?\n",
    "\n",
    "pos_even_num = a[np.where(a>0) and (a % 2 == 0)]\n",
    "print(len(pos_even_num))"
   ]
  },
  {
   "cell_type": "code",
   "execution_count": 97,
   "id": "e9c7caf6",
   "metadata": {},
   "outputs": [
    {
     "name": "stdout",
     "output_type": "stream",
     "text": [
      "10\n"
     ]
    }
   ],
   "source": [
    "# 4. If you were to add 3 to each data point, how many positive numbers would there be?\n",
    "\n",
    "plus_three = a + 3\n",
    "pos_num_plus_three = plus_three[plus_three>0]\n",
    "print(len(pos_num_plus_three))"
   ]
  },
  {
   "cell_type": "code",
   "execution_count": 98,
   "id": "0bdc88cd",
   "metadata": {},
   "outputs": [
    {
     "name": "stdout",
     "output_type": "stream",
     "text": [
      "74.0\n",
      "144.0243035046516\n"
     ]
    }
   ],
   "source": [
    "# 5. If you squared each number, what would the new mean and standard deviation be?\n",
    "\n",
    "squared = a**2\n",
    "print(squared.mean())\n",
    "print(squared.std())"
   ]
  },
  {
   "cell_type": "code",
   "execution_count": 102,
   "id": "7e3843d0",
   "metadata": {},
   "outputs": [
    {
     "name": "stdout",
     "output_type": "stream",
     "text": [
      "0.0\n"
     ]
    }
   ],
   "source": [
    "# 6. A common statistical operation on a dataset is centering. \n",
    "# This means to adjust the data such that the mean of the data is 0. \n",
    "# This is done by subtracting the mean from each data point. \n",
    "# Center the data set. See this link for more on centering.\n",
    "\n",
    "b = a - a.mean()\n",
    "print(b.mean())"
   ]
  },
  {
   "cell_type": "code",
   "execution_count": 100,
   "id": "babcd262",
   "metadata": {},
   "outputs": [
    {
     "name": "stdout",
     "output_type": "stream",
     "text": [
      "[ 0.12403473  0.86824314  1.11631261  2.48069469 -0.62017367 -0.49613894\n",
      " -0.3721042  -0.3721042  -0.3721042  -1.11631261  0.         -1.24034735]\n"
     ]
    }
   ],
   "source": [
    "# 7. Calculate the z-score for each data point. \n",
    "# Recall that the z-score is given by:\n",
    "\n",
    "z_score = (a - a.mean()) / a.std()\n",
    "print(z_score)"
   ]
  },
  {
   "cell_type": "code",
   "execution_count": 26,
   "id": "6ef8075d",
   "metadata": {},
   "outputs": [],
   "source": [
    "# 8. Copy the setup and exercise directions from More Numpy Practice \n",
    "# into your numpy_exercises.py and add your solutions.\n",
    "a = [1, 2, 3, 4, 5, 6, 7, 8, 9, 10]"
   ]
  },
  {
   "cell_type": "code",
   "execution_count": 34,
   "id": "948a4316",
   "metadata": {},
   "outputs": [
    {
     "name": "stdout",
     "output_type": "stream",
     "text": [
      "55\n"
     ]
    }
   ],
   "source": [
    "# Exercise 1 - Make a variable called sum_of_a to hold the sum of \n",
    "# all the numbers in above list\n",
    "sum_of_a = sum(a)\n",
    "print(sum_of_a)"
   ]
  },
  {
   "cell_type": "code",
   "execution_count": 35,
   "id": "14b0ae1c",
   "metadata": {},
   "outputs": [
    {
     "name": "stdout",
     "output_type": "stream",
     "text": [
      "1\n"
     ]
    }
   ],
   "source": [
    "# Exercise 2 - Make a variable named min_of_a to hold the minimum of \n",
    "# all the numbers in the above list\n",
    "min_of_a = min(a)\n",
    "print(min_of_a)"
   ]
  },
  {
   "cell_type": "code",
   "execution_count": 36,
   "id": "0408755e",
   "metadata": {},
   "outputs": [
    {
     "name": "stdout",
     "output_type": "stream",
     "text": [
      "10\n"
     ]
    }
   ],
   "source": [
    "# Exercise 3 - Make a variable named max_of_a to hold the max number of \n",
    "# all the numbers in the above list\n",
    "max_of_a = max(a)\n",
    "print(max_of_a)"
   ]
  },
  {
   "cell_type": "code",
   "execution_count": 37,
   "id": "08243846",
   "metadata": {},
   "outputs": [
    {
     "name": "stdout",
     "output_type": "stream",
     "text": [
      "5.5\n"
     ]
    }
   ],
   "source": [
    "# Exercise 4 - Make a variable named mean_of_a to hold the average of \n",
    "# all the numbers in the above list\n",
    "mean_of_a = sum(a) / len(a)\n",
    "print(mean_of_a)"
   ]
  },
  {
   "cell_type": "code",
   "execution_count": 42,
   "id": "e47f76c1",
   "metadata": {},
   "outputs": [
    {
     "name": "stdout",
     "output_type": "stream",
     "text": [
      "3628800\n"
     ]
    }
   ],
   "source": [
    "# Exercise 5 - Make a variable named product_of_a to hold the product \n",
    "# of multiplying all the numbers in the above list together\n",
    "product_of_a = 1\n",
    "for x in a:\n",
    "    product_of_a = product_of_a * x\n",
    "print(product_of_a)"
   ]
  },
  {
   "cell_type": "code",
   "execution_count": 43,
   "id": "d1a171df",
   "metadata": {},
   "outputs": [
    {
     "name": "stdout",
     "output_type": "stream",
     "text": [
      "[1, 4, 9, 16, 25, 36, 49, 64, 81, 100]\n"
     ]
    }
   ],
   "source": [
    "# Exercise 6 - Make a variable named squares_of_a. \n",
    "# It should hold each number in a squared like [1, 4, 9, 16, 25...]\n",
    "squares_of_a = []\n",
    "for x in a:\n",
    "    squares_of_a.append(x**2)\n",
    "print(squares_of_a)"
   ]
  },
  {
   "cell_type": "code",
   "execution_count": 44,
   "id": "896cfea6",
   "metadata": {},
   "outputs": [
    {
     "name": "stdout",
     "output_type": "stream",
     "text": [
      "[1, 3, 5, 7, 9]\n"
     ]
    }
   ],
   "source": [
    "# Exercise 7 - Make a variable named odds_in_a. \n",
    "# It should hold only the odd numbers\n",
    "odds_in_a = []\n",
    "for x in a:\n",
    "    if x %2 != 0:\n",
    "        odds_in_a.append(x)\n",
    "print(odds_in_a)"
   ]
  },
  {
   "cell_type": "code",
   "execution_count": 45,
   "id": "0c4db96b",
   "metadata": {},
   "outputs": [
    {
     "name": "stdout",
     "output_type": "stream",
     "text": [
      "[2, 4, 6, 8, 10]\n"
     ]
    }
   ],
   "source": [
    "# Exercise 8 - Make a variable named evens_in_a. \n",
    "# It should hold only the evens.\n",
    "evens_in_a = []\n",
    "for x in a:\n",
    "    if x %2 == 0:\n",
    "        evens_in_a.append(x)\n",
    "print(evens_in_a)"
   ]
  },
  {
   "cell_type": "code",
   "execution_count": 46,
   "id": "82cd8d3f",
   "metadata": {},
   "outputs": [],
   "source": [
    "## What about life in two dimensions? \n",
    "# A list of lists is matrix, a table, a spreadsheet, a chessboard...\n",
    "## Setup 2: Consider what it would take to find the sum, min, max, \n",
    "# average, sum, product, and list of squares for this list of two lists.\n",
    "b = [\n",
    "    [3, 4, 5],\n",
    "    [6, 7, 8]\n",
    "]"
   ]
  },
  {
   "cell_type": "code",
   "execution_count": 50,
   "id": "e4fc585a",
   "metadata": {},
   "outputs": [
    {
     "name": "stdout",
     "output_type": "stream",
     "text": [
      "33\n",
      "33\n"
     ]
    }
   ],
   "source": [
    "# Exercise 1 - refactor the following to use numpy. \n",
    "# Use sum_of_b as the variable. \n",
    "# **Hint, you'll first need to make sure that the \"b\" variable \n",
    "# is a numpy array**\n",
    "# sum_of_b = 0\n",
    "# for row in b:\n",
    "#     sum_of_b += sum(row)\n",
    "# print(sum_of_b)\n",
    "\n",
    "b = np.array(b)\n",
    "sum_of_b = b.sum()\n",
    "print(sum_of_b)"
   ]
  },
  {
   "cell_type": "code",
   "execution_count": 52,
   "id": "cd50e1fc",
   "metadata": {},
   "outputs": [
    {
     "name": "stdout",
     "output_type": "stream",
     "text": [
      "3\n"
     ]
    }
   ],
   "source": [
    "# Exercise 2 - refactor the following to use numpy. \n",
    "# min_of_b = min(b[0]) if min(b[0]) <= min(b[1]) else min(b[1])  \n",
    "\n",
    "min_of_b = b.min()\n",
    "print(min_of_b)"
   ]
  },
  {
   "cell_type": "code",
   "execution_count": 53,
   "id": "00f76205",
   "metadata": {},
   "outputs": [
    {
     "name": "stdout",
     "output_type": "stream",
     "text": [
      "8\n"
     ]
    }
   ],
   "source": [
    "# Exercise 3 - refactor the following maximum calculation to find \n",
    "# the answer with numpy.\n",
    "# max_of_b = max(b[0]) if max(b[0]) >= max(b[1]) else max(b[1])\n",
    "\n",
    "max_of_b = b.max()\n",
    "print(max_of_b)"
   ]
  },
  {
   "cell_type": "code",
   "execution_count": 54,
   "id": "a3579b4a",
   "metadata": {},
   "outputs": [
    {
     "name": "stdout",
     "output_type": "stream",
     "text": [
      "5.5\n"
     ]
    }
   ],
   "source": [
    "# Exercise 4 - refactor the following using numpy to find the mean of b\n",
    "# mean_of_b = (sum(b[0]) + sum(b[1])) / (len(b[0]) + len(b[1]))\n",
    "\n",
    "mean_of_b = b.mean()\n",
    "print(mean_of_b)"
   ]
  },
  {
   "cell_type": "code",
   "execution_count": 55,
   "id": "342ab31d",
   "metadata": {},
   "outputs": [
    {
     "name": "stdout",
     "output_type": "stream",
     "text": [
      "20160\n"
     ]
    }
   ],
   "source": [
    "# Exercise 5 - refactor the following to use numpy for calculating the \n",
    "# product of all numbers multiplied together.\n",
    "# product_of_b = 1\n",
    "# for row in b:\n",
    "#     for number in row:\n",
    "#         product_of_b *= number\n",
    "product_of_b = b.prod()\n",
    "print(product_of_b)"
   ]
  },
  {
   "cell_type": "code",
   "execution_count": 56,
   "id": "45e68ae7",
   "metadata": {},
   "outputs": [
    {
     "name": "stdout",
     "output_type": "stream",
     "text": [
      "[[ 9 16 25]\n",
      " [36 49 64]]\n"
     ]
    }
   ],
   "source": [
    "# Exercise 6 - refactor the following to use numpy to find the list of squares \n",
    "# squares_of_b = []\n",
    "# for row in b:\n",
    "#     for number in row:\n",
    "#         squares_of_b.append(number**2)\n",
    "\n",
    "squares_of_b = b**2\n",
    "print(squares_of_b)"
   ]
  },
  {
   "cell_type": "code",
   "execution_count": 57,
   "id": "55778a43",
   "metadata": {},
   "outputs": [
    {
     "name": "stdout",
     "output_type": "stream",
     "text": [
      "[3 5 7]\n"
     ]
    }
   ],
   "source": [
    "# # Exercise 7 - refactor using numpy to determine the odds_in_b\n",
    "# odds_in_b = []\n",
    "# for row in b:\n",
    "#     for number in row:\n",
    "#         if(number % 2 != 0):\n",
    "#             odds_in_b.append(number)\n",
    "\n",
    "odds_in_b = b[b % 2 != 0]\n",
    "print(odds_in_b)"
   ]
  },
  {
   "cell_type": "code",
   "execution_count": 58,
   "id": "a21042d0",
   "metadata": {},
   "outputs": [
    {
     "name": "stdout",
     "output_type": "stream",
     "text": [
      "[4 6 8]\n"
     ]
    }
   ],
   "source": [
    "# Exercise 8 - refactor the following to use numpy to filter only the even numbers\n",
    "# evens_in_b = []\n",
    "# for row in b:\n",
    "#     for number in row:\n",
    "#         if(number % 2 == 0):\n",
    "#             evens_in_b.append(number)\n",
    "\n",
    "evens_in_b = b[b % 2 == 0]\n",
    "print(evens_in_b)"
   ]
  },
  {
   "cell_type": "code",
   "execution_count": 59,
   "id": "a774f2f8",
   "metadata": {},
   "outputs": [
    {
     "name": "stdout",
     "output_type": "stream",
     "text": [
      "(2, 3)\n"
     ]
    }
   ],
   "source": [
    "# Exercise 9 - print out the shape of the array b\n",
    "print(b.shape)"
   ]
  },
  {
   "cell_type": "code",
   "execution_count": 60,
   "id": "816aca64",
   "metadata": {},
   "outputs": [
    {
     "data": {
      "text/plain": [
       "array([[3, 6],\n",
       "       [4, 7],\n",
       "       [5, 8]])"
      ]
     },
     "execution_count": 60,
     "metadata": {},
     "output_type": "execute_result"
    }
   ],
   "source": [
    "# Exercise 10 - transpose the array b.\n",
    "np.transpose(b)"
   ]
  },
  {
   "cell_type": "code",
   "execution_count": 61,
   "id": "88534314",
   "metadata": {},
   "outputs": [
    {
     "data": {
      "text/plain": [
       "array([[3, 4, 5, 6, 7, 8]])"
      ]
     },
     "execution_count": 61,
     "metadata": {},
     "output_type": "execute_result"
    }
   ],
   "source": [
    "# Exercise 11 - reshape the array b to be a single list of 6 numbers. (1 x 6)\n",
    "b.reshape(1,6)"
   ]
  },
  {
   "cell_type": "code",
   "execution_count": 62,
   "id": "18969614",
   "metadata": {},
   "outputs": [
    {
     "data": {
      "text/plain": [
       "array([[3],\n",
       "       [4],\n",
       "       [5],\n",
       "       [6],\n",
       "       [7],\n",
       "       [8]])"
      ]
     },
     "execution_count": 62,
     "metadata": {},
     "output_type": "execute_result"
    }
   ],
   "source": [
    "# Exercise 12 - reshape the array b to be a list of 6 lists, \n",
    "# each containing only 1 number (6 x 1)\n",
    "b.reshape(6,1)"
   ]
  },
  {
   "cell_type": "code",
   "execution_count": 63,
   "id": "410cba53",
   "metadata": {},
   "outputs": [],
   "source": [
    "## Setup 3\n",
    "c = [\n",
    "    [1, 2, 3],\n",
    "    [4, 5, 6],\n",
    "    [7, 8, 9]\n",
    "]"
   ]
  },
  {
   "cell_type": "code",
   "execution_count": 65,
   "id": "25e2348d",
   "metadata": {},
   "outputs": [
    {
     "name": "stdout",
     "output_type": "stream",
     "text": [
      "min: 1\n",
      "max: 9\n",
      "sum: 45\n",
      "product: 362880\n"
     ]
    }
   ],
   "source": [
    "# HINT, you'll first need to make sure that the \"c\" variable is a numpy array prior to using numpy array methods.\n",
    "# Exercise 1 - Find the min, max, sum, and product of c.\n",
    "c = np.array(c)\n",
    "\n",
    "print('min:', c.min())\n",
    "print('max:', c.max())\n",
    "print('sum:', c.sum())\n",
    "print('product:', c.prod())"
   ]
  },
  {
   "cell_type": "code",
   "execution_count": 66,
   "id": "2a6ca95e",
   "metadata": {},
   "outputs": [
    {
     "name": "stdout",
     "output_type": "stream",
     "text": [
      "std: 2.581988897471611\n"
     ]
    }
   ],
   "source": [
    "# Exercise 2 - Determine the standard deviation of c.\n",
    "\n",
    "print('std:', c.std())"
   ]
  },
  {
   "cell_type": "code",
   "execution_count": 67,
   "id": "62433478",
   "metadata": {},
   "outputs": [
    {
     "name": "stdout",
     "output_type": "stream",
     "text": [
      "variance:  6.666666666666667\n"
     ]
    }
   ],
   "source": [
    "# Exercise 3 - Determine the variance of c.\n",
    "print('variance: ', c.var())"
   ]
  },
  {
   "cell_type": "code",
   "execution_count": 68,
   "id": "5c5b3949",
   "metadata": {},
   "outputs": [
    {
     "name": "stdout",
     "output_type": "stream",
     "text": [
      "(3, 3)\n"
     ]
    }
   ],
   "source": [
    "# Exercise 4 - Print out the shape of the array c\n",
    "print(c.shape)"
   ]
  },
  {
   "cell_type": "code",
   "execution_count": 69,
   "id": "5c8858e5",
   "metadata": {},
   "outputs": [
    {
     "name": "stdout",
     "output_type": "stream",
     "text": [
      "[[1 4 7]\n",
      " [2 5 8]\n",
      " [3 6 9]]\n"
     ]
    }
   ],
   "source": [
    "# Exercise 5 - Transpose c and print out transposed result.\n",
    "print(np.transpose(c))"
   ]
  },
  {
   "cell_type": "code",
   "execution_count": 70,
   "id": "2abf3111",
   "metadata": {},
   "outputs": [
    {
     "name": "stdout",
     "output_type": "stream",
     "text": [
      "[[ 30  36  42]\n",
      " [ 66  81  96]\n",
      " [102 126 150]]\n"
     ]
    }
   ],
   "source": [
    "# Exercise 6 - Get the dot product of the array c with c. \n",
    "print(np.dot(c,c))"
   ]
  },
  {
   "cell_type": "code",
   "execution_count": 71,
   "id": "66be54db",
   "metadata": {},
   "outputs": [
    {
     "name": "stdout",
     "output_type": "stream",
     "text": [
      "261\n"
     ]
    }
   ],
   "source": [
    "# Exercise 7 - Write the code necessary to sum up the result of c times c transposed. Answer should be 261\n",
    "print((c * np.transpose(c)).sum())"
   ]
  },
  {
   "cell_type": "code",
   "execution_count": 72,
   "id": "52dade16",
   "metadata": {},
   "outputs": [
    {
     "name": "stdout",
     "output_type": "stream",
     "text": [
      "131681894400\n"
     ]
    }
   ],
   "source": [
    "# Exercise 8 - Write the code necessary to determine the product of c times c transposed. Answer should be 131681894400.\n",
    "print((c * np.transpose(c)).prod())"
   ]
  },
  {
   "cell_type": "code",
   "execution_count": 73,
   "id": "42fdd9c8",
   "metadata": {},
   "outputs": [],
   "source": [
    "## Setup 4\n",
    "d = [\n",
    "    [90, 30, 45, 0, 120, 180],\n",
    "    [45, -90, -30, 270, 90, 0],\n",
    "    [60, 45, -45, 90, -45, 180]\n",
    "]"
   ]
  },
  {
   "cell_type": "code",
   "execution_count": 75,
   "id": "0d7b9ad5",
   "metadata": {},
   "outputs": [
    {
     "data": {
      "text/plain": [
       "array([[ 0.89399666, -0.98803162,  0.85090352,  0.        ,  0.58061118,\n",
       "        -0.80115264],\n",
       "       [ 0.85090352, -0.89399666,  0.98803162, -0.17604595,  0.89399666,\n",
       "         0.        ],\n",
       "       [-0.30481062,  0.85090352, -0.85090352,  0.89399666, -0.85090352,\n",
       "        -0.80115264]])"
      ]
     },
     "execution_count": 75,
     "metadata": {},
     "output_type": "execute_result"
    }
   ],
   "source": [
    "# Exercise 1 - Find the sine of all the numbers in d\n",
    "d = np.array(d)\n",
    "np.sin(d)"
   ]
  },
  {
   "cell_type": "code",
   "execution_count": 76,
   "id": "89741eb6",
   "metadata": {},
   "outputs": [
    {
     "data": {
      "text/plain": [
       "array([[-0.44807362,  0.15425145,  0.52532199,  1.        ,  0.81418097,\n",
       "        -0.59846007],\n",
       "       [ 0.52532199, -0.44807362,  0.15425145,  0.98438195, -0.44807362,\n",
       "         1.        ],\n",
       "       [-0.95241298,  0.52532199,  0.52532199, -0.44807362,  0.52532199,\n",
       "        -0.59846007]])"
      ]
     },
     "execution_count": 76,
     "metadata": {},
     "output_type": "execute_result"
    }
   ],
   "source": [
    "# Exercise 2 - Find the cosine of all the numbers in d\n",
    "np.cos(d)"
   ]
  },
  {
   "cell_type": "code",
   "execution_count": 77,
   "id": "4f038f77",
   "metadata": {},
   "outputs": [
    {
     "data": {
      "text/plain": [
       "array([[ 1.55740772, -2.18503986, -0.14254654],\n",
       "       [ 1.15782128, -3.38051501, -0.29100619],\n",
       "       [ 0.87144798, -6.79971146, -0.45231566]])"
      ]
     },
     "execution_count": 77,
     "metadata": {},
     "output_type": "execute_result"
    }
   ],
   "source": [
    "# Exercise 3 - Find the tangent of all the numbers in d\n",
    "np.tan(c)"
   ]
  },
  {
   "cell_type": "code",
   "execution_count": 78,
   "id": "5ffad810",
   "metadata": {},
   "outputs": [
    {
     "name": "stdout",
     "output_type": "stream",
     "text": [
      "[-90 -30 -45 -45]\n"
     ]
    }
   ],
   "source": [
    "# Exercise 4 - Find all the negative numbers in d\n",
    "print(d[d < 0])"
   ]
  },
  {
   "cell_type": "code",
   "execution_count": 79,
   "id": "cd53a463",
   "metadata": {},
   "outputs": [
    {
     "name": "stdout",
     "output_type": "stream",
     "text": [
      "[ 90  30  45 120 180  45 270  90  60  45  90 180]\n"
     ]
    }
   ],
   "source": [
    "# Exercise 5 - Find all the positive numbers in d\n",
    "print(d[d>0])"
   ]
  },
  {
   "cell_type": "code",
   "execution_count": 80,
   "id": "6cd2bf5c",
   "metadata": {},
   "outputs": [
    {
     "name": "stdout",
     "output_type": "stream",
     "text": [
      "[-90 -45 -30   0  30  45  60  90 120 180 270]\n"
     ]
    }
   ],
   "source": [
    "# Exercise 6 - Return an array of only the unique numbers in d.\n",
    "print(np.unique(d))"
   ]
  },
  {
   "cell_type": "code",
   "execution_count": 82,
   "id": "456c4ee1",
   "metadata": {},
   "outputs": [
    {
     "name": "stdout",
     "output_type": "stream",
     "text": [
      "11\n"
     ]
    }
   ],
   "source": [
    "# Exercise 7 - Determine how many unique numbers there are in d.\n",
    "print(len(np.unique(d)))"
   ]
  },
  {
   "cell_type": "code",
   "execution_count": 83,
   "id": "f5c6e2b5",
   "metadata": {},
   "outputs": [
    {
     "data": {
      "text/plain": [
       "(3, 6)"
      ]
     },
     "execution_count": 83,
     "metadata": {},
     "output_type": "execute_result"
    }
   ],
   "source": [
    "# Exercise 8 - Print out the shape of d.\n",
    "d.shape"
   ]
  },
  {
   "cell_type": "code",
   "execution_count": 84,
   "id": "5aae2fa4",
   "metadata": {},
   "outputs": [
    {
     "name": "stdout",
     "output_type": "stream",
     "text": [
      "[[ 90  45  60]\n",
      " [ 30 -90  45]\n",
      " [ 45 -30 -45]\n",
      " [  0 270  90]\n",
      " [120  90 -45]\n",
      " [180   0 180]]\n"
     ]
    }
   ],
   "source": [
    "# Exercise 9 - Transpose and then print out the shape of d.\n",
    "print(np.transpose(d))"
   ]
  },
  {
   "cell_type": "code",
   "execution_count": 85,
   "id": "b46550ca",
   "metadata": {},
   "outputs": [
    {
     "data": {
      "text/plain": [
       "array([[ 90,  30],\n",
       "       [ 45,   0],\n",
       "       [120, 180],\n",
       "       [ 45, -90],\n",
       "       [-30, 270],\n",
       "       [ 90,   0],\n",
       "       [ 60,  45],\n",
       "       [-45,  90],\n",
       "       [-45, 180]])"
      ]
     },
     "execution_count": 85,
     "metadata": {},
     "output_type": "execute_result"
    }
   ],
   "source": [
    "# Exercise 10 - Reshape d into an array of 9 x 2\n",
    "d.reshape(9,2)"
   ]
  },
  {
   "cell_type": "code",
   "execution_count": null,
   "id": "9c234205",
   "metadata": {},
   "outputs": [],
   "source": []
  }
 ],
 "metadata": {
  "kernelspec": {
   "display_name": "Python 3 (ipykernel)",
   "language": "python",
   "name": "python3"
  },
  "language_info": {
   "codemirror_mode": {
    "name": "ipython",
    "version": 3
   },
   "file_extension": ".py",
   "mimetype": "text/x-python",
   "name": "python",
   "nbconvert_exporter": "python",
   "pygments_lexer": "ipython3",
   "version": "3.9.12"
  }
 },
 "nbformat": 4,
 "nbformat_minor": 5
}
